{
 "cells": [
  {
   "cell_type": "code",
   "execution_count": 3,
   "id": "3c88509b",
   "metadata": {},
   "outputs": [],
   "source": [
    "# 데이터 처리하는 라이브러리 사용하기\n",
    "import pandas as pd"
   ]
  },
  {
   "cell_type": "code",
   "execution_count": 4,
   "id": "c9dc90b8",
   "metadata": {},
   "outputs": [],
   "source": [
    "# 오라클 연결, 접속, SQL구문 처리 라이브러리\n",
    "# 먼저 prompt에서 설치 : conda install -c conda-forge cx_Oracle\n",
    "# pip은 무조건 최신버전 설치, conda(install -c conda-)로 설치하면 버전 적합성을 체크한 후 설치됨 \n",
    "import cx_Oracle"
   ]
  },
  {
   "cell_type": "code",
   "execution_count": 5,
   "id": "a43dbcdd",
   "metadata": {},
   "outputs": [
    {
     "name": "stdout",
     "output_type": "stream",
     "text": [
      "(DESCRIPTION=(ADDRESS=(PROTOCOL=TCP)(HOST=localhost)(PORT=1521))(CONNECT_DATA=(SID=xe)))\n"
     ]
    }
   ],
   "source": [
    "# 오라클 연결하기\n",
    "dsn=cx_Oracle.makedsn('localhost',1521,'xe')    # makedsn : 오라클과 연결하기. 오라클의 주소에 통로 만드는 것\n",
    "print(dsn)"
   ]
  },
  {
   "cell_type": "code",
   "execution_count": 20,
   "id": "180c19f8",
   "metadata": {},
   "outputs": [
    {
     "data": {
      "text/plain": [
       "<cx_Oracle.Connection to house@(DESCRIPTION=(ADDRESS=(PROTOCOL=TCP)(HOST=localhost)(PORT=1521))(CONNECT_DATA=(SID=xe)))>"
      ]
     },
     "execution_count": 20,
     "metadata": {},
     "output_type": "execute_result"
    }
   ],
   "source": [
    "# 오라클 접속하기\n",
    "conn=cx_Oracle.connect('house','dbdb',dsn)\n",
    "conn"
   ]
  },
  {
   "cell_type": "code",
   "execution_count": 21,
   "id": "b4c3134c",
   "metadata": {},
   "outputs": [],
   "source": [
    "# <데이터베이스 사용방법>"
   ]
  },
  {
   "cell_type": "code",
   "execution_count": 22,
   "id": "abe3eed6",
   "metadata": {},
   "outputs": [
    {
     "data": {
      "text/plain": [
       "<cx_Oracle.Cursor on <cx_Oracle.Connection to house@(DESCRIPTION=(ADDRESS=(PROTOCOL=TCP)(HOST=localhost)(PORT=1521))(CONNECT_DATA=(SID=xe)))>>"
      ]
     },
     "execution_count": 22,
     "metadata": {},
     "output_type": "execute_result"
    }
   ],
   "source": [
    "# 1. 데이터베이스와 소통할 객체 생성\n",
    "cursor=conn.cursor()\n",
    "cursor"
   ]
  },
  {
   "cell_type": "code",
   "execution_count": 23,
   "id": "8d4fb86c",
   "metadata": {},
   "outputs": [
    {
     "data": {
      "text/plain": [
       "<cx_Oracle.Cursor on <cx_Oracle.Connection to house@(DESCRIPTION=(ADDRESS=(PROTOCOL=TCP)(HOST=localhost)(PORT=1521))(CONNECT_DATA=(SID=xe)))>>"
      ]
     },
     "execution_count": 23,
     "metadata": {},
     "output_type": "execute_result"
    }
   ],
   "source": [
    "# 2. SQL구문을 커서에 실어서 오라클에 전달(execute)하면,\n",
    "# 3. 오라클이 SQL구문을 처리한 후.\n",
    "\n",
    "sql = \"\"\"\n",
    "select To_char(sum(B.prod_sale*B.cart_qty),'999,999,999') as \"총 상품금액\", \n",
    "       To_char(sum(B.del_fee),'999,999,999') as \"총 배송비\", \n",
    "       To_char(sum(B.amounts),'999,999,999') as \"총 결제금액\"\n",
    "From (select prod_code, prod_name, prod_sale, cart_qty, cart_id, del_fee,(del_fee + (prod_sale * cart_qty)) as amounts \n",
    "        From prod, cart, delivery\n",
    "        Where prod_code = cart_code\n",
    "        And prod_code = del_code\n",
    "        and cart_id = 'apple@naver.com') B\n",
    "\"\"\"\n",
    "\n",
    "cursor.execute(sql)"
   ]
  },
  {
   "cell_type": "code",
   "execution_count": 24,
   "id": "c8ed3472",
   "metadata": {},
   "outputs": [
    {
     "name": "stdout",
     "output_type": "stream",
     "text": [
      "[('     579,750', '       3,000', '     582,750')]\n"
     ]
    }
   ],
   "source": [
    "# 4. 결과값을 커서에 실어서 보내준다.\n",
    "# 리스트 형태로 모든 데이터 읽어오기..\n",
    "row = cursor.fetchall()\n",
    "print(row)\n",
    "# 전체 리스트 안에 튜플 형태로 행단위로 들어있다."
   ]
  },
  {
   "cell_type": "code",
   "execution_count": 25,
   "id": "bc2bb869",
   "metadata": {},
   "outputs": [
    {
     "name": "stdout",
     "output_type": "stream",
     "text": [
      "[('총 상품금액', <cx_Oracle.DbType DB_TYPE_VARCHAR>, 12, 12, None, None, 1), ('총 배송비', <cx_Oracle.DbType DB_TYPE_VARCHAR>, 12, 12, None, None, 1), ('총 결제금액', <cx_Oracle.DbType DB_TYPE_VARCHAR>, 12, 12, None, None, 1)]\n"
     ]
    }
   ],
   "source": [
    "# 컬럼 이름 확인하기\n",
    "colname=cursor.description\n",
    "print(colname)\n",
    "# 데이터베이스의 역할은 끝남 (모든 정보를 다 가져옴) -> 접속을 끊어줘야 함"
   ]
  },
  {
   "cell_type": "code",
   "execution_count": 26,
   "id": "33f28cec",
   "metadata": {},
   "outputs": [],
   "source": [
    "# 5. cursor를 닫은 다음, DB와의 연결을 끊어준다\n",
    "# 커서 반납하기\n",
    "cursor.close()"
   ]
  },
  {
   "cell_type": "code",
   "execution_count": 27,
   "id": "9a99934f",
   "metadata": {},
   "outputs": [],
   "source": [
    "# DB와의 접속 끊기\n",
    "conn.close()"
   ]
  },
  {
   "cell_type": "code",
   "execution_count": 28,
   "id": "1c621b4f",
   "metadata": {},
   "outputs": [
    {
     "name": "stdout",
     "output_type": "stream",
     "text": [
      "['총 상품금액', '총 배송비', '총 결제금액']\n"
     ]
    }
   ],
   "source": [
    "col = []\n",
    "for i in colname :\n",
    "    col.append(i[0])\n",
    "print(col)\n",
    "# 위의 colname은 리스트형태. 거기에서 0번째 값이 모두 이름이었기 때문에 가져옴"
   ]
  },
  {
   "cell_type": "code",
   "execution_count": 29,
   "id": "80524146",
   "metadata": {
    "scrolled": true
   },
   "outputs": [
    {
     "name": "stdout",
     "output_type": "stream",
     "text": [
      "         총 상품금액         총 배송비        총 결제금액\n",
      "0       579,750         3,000       582,750\n"
     ]
    }
   ],
   "source": [
    "# pandas를 사용한 데이터 프레임 형식으로 변환\n",
    "emp = pd.DataFrame(row, columns=col)   # row는 리스트 형태 그 안에 튜플형식으로 존재.\n",
    "print(emp)"
   ]
  },
  {
   "cell_type": "code",
   "execution_count": null,
   "id": "731d7001",
   "metadata": {},
   "outputs": [],
   "source": []
  }
 ],
 "metadata": {
  "kernelspec": {
   "display_name": "django_kernel",
   "language": "python",
   "name": "django"
  },
  "language_info": {
   "codemirror_mode": {
    "name": "ipython",
    "version": 3
   },
   "file_extension": ".py",
   "mimetype": "text/x-python",
   "name": "python",
   "nbconvert_exporter": "python",
   "pygments_lexer": "ipython3",
   "version": "3.9.12"
  }
 },
 "nbformat": 4,
 "nbformat_minor": 5
}
