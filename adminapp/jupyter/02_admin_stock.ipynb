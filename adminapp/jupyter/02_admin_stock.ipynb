{
 "cells": [
  {
   "cell_type": "code",
   "execution_count": 2,
   "id": "3c88509b",
   "metadata": {},
   "outputs": [],
   "source": [
    "# 데이터 처리하는 라이브러리 사용하기\n",
    "import pandas as pd"
   ]
  },
  {
   "cell_type": "code",
   "execution_count": 3,
   "id": "c9dc90b8",
   "metadata": {},
   "outputs": [],
   "source": [
    "# 오라클 연결, 접속, SQL구문 처리 라이브러리\n",
    "# 먼저 prompt에서 설치 : conda install -c conda-forge cx_Oracle\n",
    "# pip은 무조건 최신버전 설치, conda(install -c conda-)로 설치하면 버전 적합성을 체크한 후 설치됨 \n",
    "import cx_Oracle"
   ]
  },
  {
   "cell_type": "code",
   "execution_count": 4,
   "id": "a43dbcdd",
   "metadata": {},
   "outputs": [
    {
     "name": "stdout",
     "output_type": "stream",
     "text": [
      "(DESCRIPTION=(ADDRESS=(PROTOCOL=TCP)(HOST=localhost)(PORT=1521))(CONNECT_DATA=(SID=xe)))\n"
     ]
    }
   ],
   "source": [
    "# 오라클 연결하기\n",
    "dsn=cx_Oracle.makedsn('localhost',1521,'xe')    # makedsn : 오라클과 연결하기. 오라클의 주소에 통로 만드는 것\n",
    "print(dsn)"
   ]
  },
  {
   "cell_type": "code",
   "execution_count": 5,
   "id": "180c19f8",
   "metadata": {},
   "outputs": [
    {
     "data": {
      "text/plain": [
       "<cx_Oracle.Connection to house@(DESCRIPTION=(ADDRESS=(PROTOCOL=TCP)(HOST=localhost)(PORT=1521))(CONNECT_DATA=(SID=xe)))>"
      ]
     },
     "execution_count": 5,
     "metadata": {},
     "output_type": "execute_result"
    }
   ],
   "source": [
    "# 오라클 접속하기\n",
    "conn=cx_Oracle.connect('house','dbdb',dsn)\n",
    "conn"
   ]
  },
  {
   "cell_type": "code",
   "execution_count": 6,
   "id": "b4c3134c",
   "metadata": {},
   "outputs": [],
   "source": [
    "# <데이터베이스 사용방법>"
   ]
  },
  {
   "cell_type": "code",
   "execution_count": 9,
   "id": "abe3eed6",
   "metadata": {},
   "outputs": [
    {
     "data": {
      "text/plain": [
       "<cx_Oracle.Cursor on <cx_Oracle.Connection to house@(DESCRIPTION=(ADDRESS=(PROTOCOL=TCP)(HOST=localhost)(PORT=1521))(CONNECT_DATA=(SID=xe)))>>"
      ]
     },
     "execution_count": 9,
     "metadata": {},
     "output_type": "execute_result"
    }
   ],
   "source": [
    "# 1. 데이터베이스와 소통할 객체 생성\n",
    "cursor=conn.cursor()\n",
    "cursor"
   ]
  },
  {
   "cell_type": "code",
   "execution_count": 11,
   "id": "8d4fb86c",
   "metadata": {},
   "outputs": [
    {
     "data": {
      "text/plain": [
       "<cx_Oracle.Cursor on <cx_Oracle.Connection to house@(DESCRIPTION=(ADDRESS=(PROTOCOL=TCP)(HOST=localhost)(PORT=1521))(CONNECT_DATA=(SID=xe)))>>"
      ]
     },
     "execution_count": 11,
     "metadata": {},
     "output_type": "execute_result"
    }
   ],
   "source": [
    "# 2. SQL구문을 커서에 실어서 오라클에 전달(execute)하면,\n",
    "# 3. 오라클이 SQL구문을 처리한 후.\n",
    "\n",
    "sql = \"\"\"\n",
    "select A.prod_code, A.prod_name, B.sel_name, B.sel_id, A.prod_approval, sum(ord_qty) as \"판매수량\"\n",
    "From prod A,(select prod_code, prod_name, sel_name, sel_id, prod_approval,ord_num,ord_qty\n",
    "                from prod, seller, orders\n",
    "                Where prod_id = sel_id\n",
    "                And prod_code = ord_code\n",
    "                AND prod_approval in '승인완료'\n",
    "                Order by ord_num DESC) B\n",
    "Where A.prod_code = B.prod_code\n",
    "Group by A.prod_code, A.prod_name, B.sel_name, B.sel_id, A.prod_approval\n",
    "\n",
    "\"\"\"\n",
    "\n",
    "cursor.execute(sql)"
   ]
  },
  {
   "cell_type": "code",
   "execution_count": 12,
   "id": "c8ed3472",
   "metadata": {},
   "outputs": [
    {
     "name": "stdout",
     "output_type": "stream",
     "text": [
      "[('sp123', '화이트 원형테이블', '박바나', 'banana@gmail.com', '승인완료', 8), ('FU123', '[해외] Cheese 미드센츄리 치즈의자 빈티지 인테리어체어', '박바나', 'banana@gmail.com', '승인완료', 1), ('SU123', '[오늘의딜]  MUJI WEEK 입점기념 아크릴수납함 할인!', '김수납', 'soonap@gmail.com', '승인완료', 6), ('KI123', '[오늘의딜] [선착순 5천원쿠폰] 톡 누르면 열리는 감편한 음식물쓰레기통', '심판다', 'panda@gmail.com', '승인완료', 4), ('KI124', '[오늘의집 단독특가] 데일리 주방칼 5종+칼블럭세트 (올스텐/블랙 택1)', '심판다', 'panda@gmail.com', '승인완료', 1), ('FU124', '루나 인테리어 원형 원목 탁상 거울', '박바나', 'banana@gmail.com', '승인완료', 1), ('FU125', '알렉스 1200 높은 수납장 ALEX 3color', '박바나', 'banana@gmail.com', '승인완료', 4), ('DE123', '앙리 마티스 아트 드로잉 / 55 애플 드로잉/', '오브제', 'deco@gmail.com', '승인완료', 5), ('EL123', '[오늘의딜] [단독] 22년 신제품 3단접이 수납식 BLDC 120도 회전 써큘레이터', '물고기', 'fish@gmail.com', '승인완료', 6), ('HO123', '[25%쿠폰] 3겹 순수소프트 롤화장지(27Mx30롤)X2팩 외 모음', '이생활', 'welllife@naver.com', '승인완료', 2), ('FA123', '[맞춤] 화이트 나비주름 암막커튼 3type', '최원단', 'wondan@hanmail.net', '승인완료', 2), ('LI123', '[해외] 북유럽 플로어램프 장스탠드 LED조명', '김태양', 'sun@naver.com', '승인완료', 1), ('FU126', '호텔식 프리미엄 독립 포켓스프링 필로우탑 매트리스(25cm)', '박바나', 'banana@gmail.com', '승인완료', 4)]\n"
     ]
    }
   ],
   "source": [
    "# 4. 결과값을 커서에 실어서 보내준다.\n",
    "# 리스트 형태로 모든 데이터 읽어오기..\n",
    "row = cursor.fetchall()\n",
    "print(row)\n",
    "# 전체 리스트 안에 튜플 형태로 행단위로 들어있다."
   ]
  },
  {
   "cell_type": "code",
   "execution_count": 13,
   "id": "bc2bb869",
   "metadata": {},
   "outputs": [
    {
     "name": "stdout",
     "output_type": "stream",
     "text": [
      "[('PROD_CODE', <cx_Oracle.DbType DB_TYPE_VARCHAR>, 20, 20, None, None, 0), ('PROD_NAME', <cx_Oracle.DbType DB_TYPE_VARCHAR>, 99, 99, None, None, 0), ('SEL_NAME', <cx_Oracle.DbType DB_TYPE_VARCHAR>, 20, 20, None, None, 0), ('SEL_ID', <cx_Oracle.DbType DB_TYPE_VARCHAR>, 20, 20, None, None, 0), ('PROD_APPROVAL', <cx_Oracle.DbType DB_TYPE_VARCHAR>, 4, 12, None, None, 1), ('판매수량', <cx_Oracle.DbType DB_TYPE_NUMBER>, 127, None, None, None, 1)]\n"
     ]
    }
   ],
   "source": [
    "# 컬럼 이름 확인하기\n",
    "colname=cursor.description\n",
    "print(colname)\n",
    "# 데이터베이스의 역할은 끝남 (모든 정보를 다 가져옴) -> 접속을 끊어줘야 함"
   ]
  },
  {
   "cell_type": "code",
   "execution_count": 14,
   "id": "33f28cec",
   "metadata": {},
   "outputs": [],
   "source": [
    "# 5. cursor를 닫은 다음, DB와의 연결을 끊어준다\n",
    "# 커서 반납하기\n",
    "cursor.close()"
   ]
  },
  {
   "cell_type": "code",
   "execution_count": 15,
   "id": "9a99934f",
   "metadata": {},
   "outputs": [],
   "source": [
    "# DB와의 접속 끊기\n",
    "conn.close()"
   ]
  },
  {
   "cell_type": "code",
   "execution_count": 16,
   "id": "1c621b4f",
   "metadata": {},
   "outputs": [
    {
     "name": "stdout",
     "output_type": "stream",
     "text": [
      "['PROD_CODE', 'PROD_NAME', 'SEL_NAME', 'SEL_ID', 'PROD_APPROVAL', '판매수량']\n"
     ]
    }
   ],
   "source": [
    "col = []\n",
    "for i in colname :\n",
    "    col.append(i[0])\n",
    "print(col)\n",
    "# 위의 colname은 리스트형태. 거기에서 0번째 값이 모두 이름이었기 때문에 가져옴"
   ]
  },
  {
   "cell_type": "code",
   "execution_count": 17,
   "id": "80524146",
   "metadata": {
    "scrolled": true
   },
   "outputs": [
    {
     "name": "stdout",
     "output_type": "stream",
     "text": [
      "   PROD_CODE                                        PROD_NAME SEL_NAME  \\\n",
      "0      sp123                                        화이트 원형테이블      박바나   \n",
      "1      FU123                [해외] Cheese 미드센츄리 치즈의자 빈티지 인테리어체어      박바나   \n",
      "2      SU123                [오늘의딜]  MUJI WEEK 입점기념 아크릴수납함 할인!      김수납   \n",
      "3      KI123         [오늘의딜] [선착순 5천원쿠폰] 톡 누르면 열리는 감편한 음식물쓰레기통      심판다   \n",
      "4      KI124         [오늘의집 단독특가] 데일리 주방칼 5종+칼블럭세트 (올스텐/블랙 택1)      심판다   \n",
      "5      FU124                              루나 인테리어 원형 원목 탁상 거울      박바나   \n",
      "6      FU125                      알렉스 1200 높은 수납장 ALEX 3color      박바나   \n",
      "7      DE123                       앙리 마티스 아트 드로잉 / 55 애플 드로잉/      오브제   \n",
      "8      EL123  [오늘의딜] [단독] 22년 신제품 3단접이 수납식 BLDC 120도 회전 써큘레이터      물고기   \n",
      "9      HO123           [25%쿠폰] 3겹 순수소프트 롤화장지(27Mx30롤)X2팩 외 모음      이생활   \n",
      "10     FA123                         [맞춤] 화이트 나비주름 암막커튼 3type      최원단   \n",
      "11     LI123                        [해외] 북유럽 플로어램프 장스탠드 LED조명      김태양   \n",
      "12     FU126                호텔식 프리미엄 독립 포켓스프링 필로우탑 매트리스(25cm)      박바나   \n",
      "\n",
      "                SEL_ID PROD_APPROVAL  판매수량  \n",
      "0     banana@gmail.com          승인완료     8  \n",
      "1     banana@gmail.com          승인완료     1  \n",
      "2     soonap@gmail.com          승인완료     6  \n",
      "3      panda@gmail.com          승인완료     4  \n",
      "4      panda@gmail.com          승인완료     1  \n",
      "5     banana@gmail.com          승인완료     1  \n",
      "6     banana@gmail.com          승인완료     4  \n",
      "7       deco@gmail.com          승인완료     5  \n",
      "8       fish@gmail.com          승인완료     6  \n",
      "9   welllife@naver.com          승인완료     2  \n",
      "10  wondan@hanmail.net          승인완료     2  \n",
      "11       sun@naver.com          승인완료     1  \n",
      "12    banana@gmail.com          승인완료     4  \n"
     ]
    }
   ],
   "source": [
    "# pandas를 사용한 데이터 프레임 형식으로 변환\n",
    "emp = pd.DataFrame(row, columns=col)   # row는 리스트 형태 그 안에 튜플형식으로 존재.\n",
    "print(emp)"
   ]
  },
  {
   "cell_type": "code",
   "execution_count": null,
   "id": "731d7001",
   "metadata": {},
   "outputs": [],
   "source": []
  }
 ],
 "metadata": {
  "kernelspec": {
   "display_name": "django_kernel",
   "language": "python",
   "name": "django"
  },
  "language_info": {
   "codemirror_mode": {
    "name": "ipython",
    "version": 3
   },
   "file_extension": ".py",
   "mimetype": "text/x-python",
   "name": "python",
   "nbconvert_exporter": "python",
   "pygments_lexer": "ipython3",
   "version": "3.9.12"
  }
 },
 "nbformat": 4,
 "nbformat_minor": 5
}
